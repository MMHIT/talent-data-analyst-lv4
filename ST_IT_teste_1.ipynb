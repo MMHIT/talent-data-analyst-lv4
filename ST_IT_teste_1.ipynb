{
 "cells": [
  {
   "cell_type": "code",
   "execution_count": null,
   "id": "6e490a1e",
   "metadata": {},
   "outputs": [],
   "source": [
    "import boto3\n",
    "import json\n",
    "import os\n",
    "import findspark\n",
    "import configparser\n",
    "\n",
    "from datetime import datetime, date\n",
    "from pyspark.sql import SparkSession\n",
    "import pyspark.sql.functions as F"
   ]
  },
  {
   "cell_type": "code",
   "execution_count": null,
   "id": "1c2ffe39",
   "metadata": {},
   "outputs": [],
   "source": [
    "spark = SparkSession.builder.appName(\"ST_IT\").getOrCreate()"
   ]
  },
  {
   "cell_type": "code",
   "execution_count": null,
   "id": "939f66a8",
   "metadata": {},
   "outputs": [],
   "source": [
    "spark"
   ]
  },
  {
   "cell_type": "code",
   "execution_count": null,
   "id": "9c327c0b",
   "metadata": {},
   "outputs": [],
   "source": [
    "df = (\n",
    "        spark.read.format(\"csv\")\n",
    "        .option(\"inferSchema\", \"true\")\n",
    "        .option(\"delimiter\",\";\")\n",
    "        .option(\"head\",\"true\")\n",
    "        .load(f\"dados_cadastrais_fake.csv\")\n",
    "    )"
   ]
  },
  {
   "cell_type": "code",
   "execution_count": null,
   "id": "7d576b3c",
   "metadata": {},
   "outputs": [],
   "source": [
    "df.show()"
   ]
  },
  {
   "cell_type": "markdown",
   "id": "6b607363",
   "metadata": {},
   "source": [
    "# Limpeza e Normalização"
   ]
  },
  {
   "cell_type": "code",
   "execution_count": null,
   "id": "39d131d2",
   "metadata": {},
   "outputs": [],
   "source": [
    "#df = \n",
    "df = df.withColumn(\"_c1\", F.col(\"_c1\").cast(\"integer\"))\n",
    "#df = df.withColumn(F.when((F.length(\"_c3\") >= 3, F.concat(F.col(\"_c3\")[0], , F.col(\"_c3\")[1]))))"
   ]
  },
  {
   "cell_type": "code",
   "execution_count": null,
   "id": "ad67fcc4",
   "metadata": {},
   "outputs": [],
   "source": [
    "df.show()"
   ]
  },
  {
   "cell_type": "markdown",
   "id": "04502797",
   "metadata": {},
   "source": [
    "# Remoção de caracteres"
   ]
  },
  {
   "cell_type": "code",
   "execution_count": null,
   "id": "c82b4f61",
   "metadata": {},
   "outputs": [],
   "source": [
    "df = df.withColumn(\"_c4\", F.regexp_replace(F.col(\"_c4\"), \"[^A-Z0-9_]\", \"\")) \\\n",
    "        .withColumn(\"_c5\", F.regexp_replace(F.col(\"_c5\"), \"[^A-Z0-9_]\", \"\"))"
   ]
  },
  {
   "cell_type": "code",
   "execution_count": null,
   "id": "a894b6d2",
   "metadata": {},
   "outputs": [],
   "source": [
    "df.show()"
   ]
  },
  {
   "cell_type": "markdown",
   "id": "54fc93e1",
   "metadata": {},
   "source": [
    "# Validando Campos CPF e CNPJ"
   ]
  },
  {
   "cell_type": "code",
   "execution_count": null,
   "id": "b05fe8ce",
   "metadata": {},
   "outputs": [],
   "source": [
    "df = df.withColumn(\"Cpf_valido\", F.when(F.length(\"_c4\") == 11, \"Valido\").when(F.length(\"_c4\") != 11, \"Invalido\")) \\\n",
    "        .withColumn(\"Cnpj_valido\", F.when(F.length(\"_c5\") == 14, \"Valido\").when(F.length(\"_c5\") != 14, \"Invalido\"))"
   ]
  },
  {
   "cell_type": "code",
   "execution_count": null,
   "id": "e9557b84",
   "metadata": {},
   "outputs": [],
   "source": [
    "df.show()"
   ]
  },
  {
   "cell_type": "markdown",
   "id": "83ed0844",
   "metadata": {},
   "source": [
    "# Reports"
   ]
  },
  {
   "cell_type": "code",
   "execution_count": null,
   "id": "42c6fea9",
   "metadata": {},
   "outputs": [],
   "source": [
    "#Quantos clientes temos nessa base?\n",
    "df_qtd = df.select().count()"
   ]
  },
  {
   "cell_type": "code",
   "execution_count": null,
   "id": "d04a18e4",
   "metadata": {},
   "outputs": [],
   "source": [
    "df_qtd"
   ]
  },
  {
   "cell_type": "code",
   "execution_count": null,
   "id": "81cc1917",
   "metadata": {},
   "outputs": [],
   "source": [
    "#Qual a média de idade dos clientes?\n",
    "df_mean_age = df.withColumn(\"mean\",F.mean(\"_c1\"))"
   ]
  },
  {
   "cell_type": "code",
   "execution_count": null,
   "id": "434c66bf",
   "metadata": {},
   "outputs": [],
   "source": [
    "#Quantos clientes nessa base pertencem a cada estado?\n"
   ]
  },
  {
   "cell_type": "code",
   "execution_count": null,
   "id": "448824a5",
   "metadata": {},
   "outputs": [],
   "source": [
    "#Quantos CPFs válidos e inválidos foram encontrados?\n"
   ]
  },
  {
   "cell_type": "code",
   "execution_count": null,
   "id": "e88c3e57",
   "metadata": {},
   "outputs": [],
   "source": [
    "#Quantos CNPJs válidos e inválidos foram encontrados?"
   ]
  }
 ],
 "metadata": {
  "kernelspec": {
   "display_name": "Python 3 (ipykernel)",
   "language": "python",
   "name": "python3"
  },
  "language_info": {
   "codemirror_mode": {
    "name": "ipython",
    "version": 3
   },
   "file_extension": ".py",
   "mimetype": "text/x-python",
   "name": "python",
   "nbconvert_exporter": "python",
   "pygments_lexer": "ipython3",
   "version": "3.9.7"
  }
 },
 "nbformat": 4,
 "nbformat_minor": 5
}
